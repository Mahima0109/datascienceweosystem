{
  "metadata": {
    "language_info": {
      "codemirror_mode": {
        "name": "python",
        "version": 3
      },
      "file_extension": ".py",
      "mimetype": "text/x-python",
      "name": "python",
      "nbconvert_exporter": "python",
      "pygments_lexer": "ipython3",
      "version": "3.8"
    },
    "kernelspec": {
      "name": "python",
      "display_name": "Python (Pyodide)",
      "language": "python"
    }
  },
  "nbformat_minor": 4,
  "nbformat": 4,
  "cells": [
    {
      "cell_type": "markdown",
      "source": "# Data science and tools",
      "metadata": {}
    },
    {
      "cell_type": "markdown",
      "source": "### INTRODUCTION: \nData science is a multidisciplinary field that uses data to answer questions, make predictions, and solve problems. It is a rapidly growing field with a wide range of applications, from healthcare to finance to marketing.\nData science is a rapidly growing field with a wide range of applications. Data scientists use a variety of tools and techniques to extract meaning from data.",
      "metadata": {}
    },
    {
      "cell_type": "markdown",
      "source": "### LANGUAGES FOR DATA SCIENCE\n -    Pyhton\n -    R\n -    Juila\n -    MATLAB",
      "metadata": {}
    },
    {
      "cell_type": "markdown",
      "source": "libraries used by Data Scientists ### Some of the commonly used libraries used by Data Scientists include:\n\n   1. TensorFlow\n   2. NumPy\n   3. SciPy\n   4. Pandas\n   5. Matplotlib\n   6. Keras\n",
      "metadata": {}
    },
    {
      "cell_type": "markdown",
      "source": "| Data Science tool |\n| ----- |\n| RStudio |\n| Apachespark|\n| Tensorflow|\n| Apache Hadoop |\n",
      "metadata": {}
    },
    {
      "cell_type": "markdown",
      "source": " ### Below are a few examples of evaluating arithmetic expressions in Python\n    x = 2 + 3 * 4 - 5 / 2 ** 3\nresult = x\nprint(result)\n# Output: 13.6875\n \n \n",
      "metadata": {}
    },
    {
      "cell_type": "code",
      "source": "a = 10\nb = 3\nc = a % b\nresult = c\nprint(result)\n# Output: 1",
      "metadata": {},
      "execution_count": null,
      "outputs": []
    },
    {
      "cell_type": "markdown",
      "source": " ## Create a code cell to multiply and add numbers\n\n(3*4)+5\n# Result: 17",
      "metadata": {}
    },
    {
      "cell_type": "markdown",
      "source": "## This will convert 200 minutes to hours by diving by 60\ndays = 0\nhours = 0\nmins = 0\n\ntime = 200\n#days = time / 1440\nleftover_minutes = time % 1440\nhours = leftover_minutes / 60\n#mins = time - (days*1440) - (hours*60)\nprint(str(days) + \" days, \" + str(hours) + \" hours, \" + str(mins) +  \" mins. \")\n\n# Result: 3.3333333333333335 hours",
      "metadata": {}
    },
    {
      "cell_type": "markdown",
      "source": "## Objective\n- Introduction\n- Languages For Data Science\n- Libraries used by Data Scientists\n- Table of Data Science tools",
      "metadata": {}
    },
    {
      "cell_type": "markdown",
      "source": "## Author\n    Mahima Sharma",
      "metadata": {}
    },
    {
      "cell_type": "code",
      "source": "",
      "metadata": {},
      "execution_count": null,
      "outputs": []
    }
  ]
}